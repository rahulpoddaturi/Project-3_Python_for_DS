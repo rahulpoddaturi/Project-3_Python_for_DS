{
 "cells": [
  {
   "cell_type": "markdown",
   "id": "a609f987",
   "metadata": {
    "id": "a609f987"
   },
   "source": [
    "## Loan Approval Model\n"
   ]
  },
  {
   "cell_type": "markdown",
   "id": "a71da4fb",
   "metadata": {
    "id": "a71da4fb"
   },
   "source": [
    "### Problem Statement"
   ]
  },
  {
   "cell_type": "markdown",
   "id": "8d41390d",
   "metadata": {
    "id": "8d41390d"
   },
   "source": [
    "Dream Housing Finance company deals in all home loans. They have presence across all urban, semi urban and rural areas. Customers first apply for a home loan after that company manually validates the customer eligibility for loan.\n",
    "Company wants to automate the loan eligibility process based on customer detail provided while filling the details online.\n",
    "They need a web application where a user can access their website and register, login, and enter the required details such as Gender, Marital Status, Education, Number of Dependents, Income, Loan Amount, Credit History and others for checking the eligibility for the home loan"
   ]
  },
  {
   "cell_type": "markdown",
   "id": "8f79d59d",
   "metadata": {
    "id": "8f79d59d"
   },
   "source": [
    "### Objective:\n",
    "Predicting whether the loan can be approved to a customer based on the details provided.\n"
   ]
  },
  {
   "cell_type": "markdown",
   "id": "01f517c8",
   "metadata": {
    "id": "01f517c8"
   },
   "source": [
    "### Attribute Information:\n",
    "1. **loan_id** - Unique Loan ID\n",
    "2. **gender**  - Male or Female\n",
    "3. **married** - Applicant married (Y/N)\n",
    "4. **dependents** - Number of dependents\n",
    "5. **education** - Graduate/Undergraduate\n",
    "6. **self_employed** - Self employed (Y/N)\n",
    "7. **applicantincome** - Applicant income (in dollars)\n",
    "8. **coapplicantincome** - Co Applicant Income (in dollars)\n",
    "9. **loanamount**- Loan amount in thousands (in dollars)\n",
    "10. **loan_amount_term** - Term of loan in months\n",
    "11. **credit_history** - Credit history meets guidelines Yes/No(1/0)\n",
    "12. **property_area** - Urban/Semi Urban/Rural\n",
    "13. **loan_status** - (Target) Loan Approved (Y/N)"
   ]
  },
  {
   "cell_type": "markdown",
   "id": "d947d915",
   "metadata": {
    "id": "d947d915"
   },
   "source": [
    "### 1. Import required Libraries"
   ]
  },
  {
   "cell_type": "code",
   "execution_count": 1,
   "id": "2b4f0280",
   "metadata": {
    "id": "2b4f0280"
   },
   "outputs": [],
   "source": [
    "import pandas as pd\n",
    "import numpy as np\n",
    "from sklearn.ensemble import RandomForestClassifier\n",
    "from sklearn.model_selection import train_test_split\n",
    "from sklearn.preprocessing import StandardScaler,LabelEncoder\n",
    "from sklearn.model_selection import KFold,cross_validate\n",
    "from sklearn.metrics import accuracy_score\n",
    "import warnings\n",
    "warnings.filterwarnings(action='ignore')\n",
    "import matplotlib.pyplot as plt\n",
    "import seaborn as sns"
   ]
  },
  {
   "cell_type": "markdown",
   "id": "a784aec3",
   "metadata": {
    "id": "a784aec3"
   },
   "source": [
    "### 2. Check the first few samples, shape, info of the data and try to familiarize yourself with different features"
   ]
  },
  {
   "cell_type": "code",
   "execution_count": 2,
   "id": "925175ad",
   "metadata": {
    "id": "925175ad",
    "outputId": "6655b5bf-b3d1-4527-fcf2-1def6fe1307a",
    "scrolled": true
   },
   "outputs": [
    {
     "data": {
      "text/html": [
       "<div>\n",
       "<style scoped>\n",
       "    .dataframe tbody tr th:only-of-type {\n",
       "        vertical-align: middle;\n",
       "    }\n",
       "\n",
       "    .dataframe tbody tr th {\n",
       "        vertical-align: top;\n",
       "    }\n",
       "\n",
       "    .dataframe thead th {\n",
       "        text-align: right;\n",
       "    }\n",
       "</style>\n",
       "<table border=\"1\" class=\"dataframe\">\n",
       "  <thead>\n",
       "    <tr style=\"text-align: right;\">\n",
       "      <th></th>\n",
       "      <th>loan_id</th>\n",
       "      <th>gender</th>\n",
       "      <th>married</th>\n",
       "      <th>dependents</th>\n",
       "      <th>education</th>\n",
       "      <th>self_employed</th>\n",
       "      <th>applicantincome</th>\n",
       "      <th>coapplicantincome</th>\n",
       "      <th>loanamount</th>\n",
       "      <th>loan_amount_term</th>\n",
       "      <th>credit_history</th>\n",
       "      <th>property_area</th>\n",
       "      <th>loan_status</th>\n",
       "    </tr>\n",
       "  </thead>\n",
       "  <tbody>\n",
       "    <tr>\n",
       "      <th>0</th>\n",
       "      <td>lp001002</td>\n",
       "      <td>male</td>\n",
       "      <td>no</td>\n",
       "      <td>0.0</td>\n",
       "      <td>graduate</td>\n",
       "      <td>no</td>\n",
       "      <td>5849</td>\n",
       "      <td>0.0</td>\n",
       "      <td>NaN</td>\n",
       "      <td>360.0</td>\n",
       "      <td>1.0</td>\n",
       "      <td>urban</td>\n",
       "      <td>y</td>\n",
       "    </tr>\n",
       "    <tr>\n",
       "      <th>1</th>\n",
       "      <td>lp001003</td>\n",
       "      <td>male</td>\n",
       "      <td>yes</td>\n",
       "      <td>1.0</td>\n",
       "      <td>graduate</td>\n",
       "      <td>no</td>\n",
       "      <td>4583</td>\n",
       "      <td>1508.0</td>\n",
       "      <td>128.0</td>\n",
       "      <td>360.0</td>\n",
       "      <td>1.0</td>\n",
       "      <td>rural</td>\n",
       "      <td>n</td>\n",
       "    </tr>\n",
       "    <tr>\n",
       "      <th>2</th>\n",
       "      <td>lp001005</td>\n",
       "      <td>male</td>\n",
       "      <td>yes</td>\n",
       "      <td>0.0</td>\n",
       "      <td>graduate</td>\n",
       "      <td>yes</td>\n",
       "      <td>3000</td>\n",
       "      <td>0.0</td>\n",
       "      <td>66.0</td>\n",
       "      <td>360.0</td>\n",
       "      <td>1.0</td>\n",
       "      <td>urban</td>\n",
       "      <td>y</td>\n",
       "    </tr>\n",
       "    <tr>\n",
       "      <th>3</th>\n",
       "      <td>lp001006</td>\n",
       "      <td>male</td>\n",
       "      <td>yes</td>\n",
       "      <td>0.0</td>\n",
       "      <td>not graduate</td>\n",
       "      <td>no</td>\n",
       "      <td>2583</td>\n",
       "      <td>2358.0</td>\n",
       "      <td>120.0</td>\n",
       "      <td>360.0</td>\n",
       "      <td>1.0</td>\n",
       "      <td>urban</td>\n",
       "      <td>y</td>\n",
       "    </tr>\n",
       "    <tr>\n",
       "      <th>4</th>\n",
       "      <td>lp001008</td>\n",
       "      <td>male</td>\n",
       "      <td>no</td>\n",
       "      <td>0.0</td>\n",
       "      <td>graduate</td>\n",
       "      <td>no</td>\n",
       "      <td>6000</td>\n",
       "      <td>0.0</td>\n",
       "      <td>141.0</td>\n",
       "      <td>360.0</td>\n",
       "      <td>1.0</td>\n",
       "      <td>urban</td>\n",
       "      <td>y</td>\n",
       "    </tr>\n",
       "  </tbody>\n",
       "</table>\n",
       "</div>"
      ],
      "text/plain": [
       "    loan_id gender married  dependents     education self_employed  \\\n",
       "0  lp001002   male      no         0.0      graduate            no   \n",
       "1  lp001003   male     yes         1.0      graduate            no   \n",
       "2  lp001005   male     yes         0.0      graduate           yes   \n",
       "3  lp001006   male     yes         0.0  not graduate            no   \n",
       "4  lp001008   male      no         0.0      graduate            no   \n",
       "\n",
       "   applicantincome  coapplicantincome  loanamount  loan_amount_term  \\\n",
       "0             5849                0.0         NaN             360.0   \n",
       "1             4583             1508.0       128.0             360.0   \n",
       "2             3000                0.0        66.0             360.0   \n",
       "3             2583             2358.0       120.0             360.0   \n",
       "4             6000                0.0       141.0             360.0   \n",
       "\n",
       "   credit_history property_area loan_status  \n",
       "0             1.0         urban           y  \n",
       "1             1.0         rural           n  \n",
       "2             1.0         urban           y  \n",
       "3             1.0         urban           y  \n",
       "4             1.0         urban           y  "
      ]
     },
     "execution_count": 2,
     "metadata": {},
     "output_type": "execute_result"
    }
   ],
   "source": [
    "df = pd.read_csv('loan_approval_data.csv')\n",
    "df.head()"
   ]
  },
  {
   "cell_type": "code",
   "execution_count": 3,
   "id": "14360609",
   "metadata": {
    "id": "14360609",
    "outputId": "96857a7a-3732-4dc3-e420-c35793c6ad2f"
   },
   "outputs": [
    {
     "name": "stdout",
     "output_type": "stream",
     "text": [
      "<class 'pandas.core.frame.DataFrame'>\n",
      "RangeIndex: 614 entries, 0 to 613\n",
      "Data columns (total 13 columns):\n",
      " #   Column             Non-Null Count  Dtype  \n",
      "---  ------             --------------  -----  \n",
      " 0   loan_id            614 non-null    object \n",
      " 1   gender             601 non-null    object \n",
      " 2   married            611 non-null    object \n",
      " 3   dependents         599 non-null    float64\n",
      " 4   education          614 non-null    object \n",
      " 5   self_employed      582 non-null    object \n",
      " 6   applicantincome    614 non-null    int64  \n",
      " 7   coapplicantincome  614 non-null    float64\n",
      " 8   loanamount         592 non-null    float64\n",
      " 9   loan_amount_term   600 non-null    float64\n",
      " 10  credit_history     564 non-null    float64\n",
      " 11  property_area      614 non-null    object \n",
      " 12  loan_status        614 non-null    object \n",
      "dtypes: float64(5), int64(1), object(7)\n",
      "memory usage: 62.5+ KB\n"
     ]
    }
   ],
   "source": [
    "## lets check the basic information of the dataset.\n",
    "df.info()"
   ]
  },
  {
   "cell_type": "code",
   "execution_count": 4,
   "id": "32b19b85",
   "metadata": {},
   "outputs": [
    {
     "data": {
      "text/html": [
       "<div>\n",
       "<style scoped>\n",
       "    .dataframe tbody tr th:only-of-type {\n",
       "        vertical-align: middle;\n",
       "    }\n",
       "\n",
       "    .dataframe tbody tr th {\n",
       "        vertical-align: top;\n",
       "    }\n",
       "\n",
       "    .dataframe thead th {\n",
       "        text-align: right;\n",
       "    }\n",
       "</style>\n",
       "<table border=\"1\" class=\"dataframe\">\n",
       "  <thead>\n",
       "    <tr style=\"text-align: right;\">\n",
       "      <th></th>\n",
       "      <th>count</th>\n",
       "      <th>mean</th>\n",
       "      <th>std</th>\n",
       "      <th>min</th>\n",
       "      <th>25%</th>\n",
       "      <th>50%</th>\n",
       "      <th>75%</th>\n",
       "      <th>max</th>\n",
       "    </tr>\n",
       "  </thead>\n",
       "  <tbody>\n",
       "    <tr>\n",
       "      <th>dependents</th>\n",
       "      <td>599.0</td>\n",
       "      <td>0.762938</td>\n",
       "      <td>1.015216</td>\n",
       "      <td>0.0</td>\n",
       "      <td>0.0</td>\n",
       "      <td>0.0</td>\n",
       "      <td>2.00</td>\n",
       "      <td>3.0</td>\n",
       "    </tr>\n",
       "    <tr>\n",
       "      <th>applicantincome</th>\n",
       "      <td>614.0</td>\n",
       "      <td>5403.459283</td>\n",
       "      <td>6109.041673</td>\n",
       "      <td>150.0</td>\n",
       "      <td>2877.5</td>\n",
       "      <td>3812.5</td>\n",
       "      <td>5795.00</td>\n",
       "      <td>81000.0</td>\n",
       "    </tr>\n",
       "    <tr>\n",
       "      <th>coapplicantincome</th>\n",
       "      <td>614.0</td>\n",
       "      <td>1621.245798</td>\n",
       "      <td>2926.248369</td>\n",
       "      <td>0.0</td>\n",
       "      <td>0.0</td>\n",
       "      <td>1188.5</td>\n",
       "      <td>2297.25</td>\n",
       "      <td>41667.0</td>\n",
       "    </tr>\n",
       "    <tr>\n",
       "      <th>loanamount</th>\n",
       "      <td>592.0</td>\n",
       "      <td>146.412162</td>\n",
       "      <td>85.587325</td>\n",
       "      <td>9.0</td>\n",
       "      <td>100.0</td>\n",
       "      <td>128.0</td>\n",
       "      <td>168.00</td>\n",
       "      <td>700.0</td>\n",
       "    </tr>\n",
       "    <tr>\n",
       "      <th>loan_amount_term</th>\n",
       "      <td>600.0</td>\n",
       "      <td>342.000000</td>\n",
       "      <td>65.120410</td>\n",
       "      <td>12.0</td>\n",
       "      <td>360.0</td>\n",
       "      <td>360.0</td>\n",
       "      <td>360.00</td>\n",
       "      <td>480.0</td>\n",
       "    </tr>\n",
       "    <tr>\n",
       "      <th>credit_history</th>\n",
       "      <td>564.0</td>\n",
       "      <td>0.842199</td>\n",
       "      <td>0.364878</td>\n",
       "      <td>0.0</td>\n",
       "      <td>1.0</td>\n",
       "      <td>1.0</td>\n",
       "      <td>1.00</td>\n",
       "      <td>1.0</td>\n",
       "    </tr>\n",
       "  </tbody>\n",
       "</table>\n",
       "</div>"
      ],
      "text/plain": [
       "                   count         mean          std    min     25%     50%  \\\n",
       "dependents         599.0     0.762938     1.015216    0.0     0.0     0.0   \n",
       "applicantincome    614.0  5403.459283  6109.041673  150.0  2877.5  3812.5   \n",
       "coapplicantincome  614.0  1621.245798  2926.248369    0.0     0.0  1188.5   \n",
       "loanamount         592.0   146.412162    85.587325    9.0   100.0   128.0   \n",
       "loan_amount_term   600.0   342.000000    65.120410   12.0   360.0   360.0   \n",
       "credit_history     564.0     0.842199     0.364878    0.0     1.0     1.0   \n",
       "\n",
       "                       75%      max  \n",
       "dependents            2.00      3.0  \n",
       "applicantincome    5795.00  81000.0  \n",
       "coapplicantincome  2297.25  41667.0  \n",
       "loanamount          168.00    700.0  \n",
       "loan_amount_term    360.00    480.0  \n",
       "credit_history        1.00      1.0  "
      ]
     },
     "execution_count": 4,
     "metadata": {},
     "output_type": "execute_result"
    }
   ],
   "source": [
    "df.describe().T"
   ]
  },
  {
   "cell_type": "code",
   "execution_count": 5,
   "id": "19c57631",
   "metadata": {},
   "outputs": [
    {
     "data": {
      "text/html": [
       "<div>\n",
       "<style scoped>\n",
       "    .dataframe tbody tr th:only-of-type {\n",
       "        vertical-align: middle;\n",
       "    }\n",
       "\n",
       "    .dataframe tbody tr th {\n",
       "        vertical-align: top;\n",
       "    }\n",
       "\n",
       "    .dataframe thead th {\n",
       "        text-align: right;\n",
       "    }\n",
       "</style>\n",
       "<table border=\"1\" class=\"dataframe\">\n",
       "  <thead>\n",
       "    <tr style=\"text-align: right;\">\n",
       "      <th></th>\n",
       "      <th>count</th>\n",
       "      <th>unique</th>\n",
       "      <th>top</th>\n",
       "      <th>freq</th>\n",
       "    </tr>\n",
       "  </thead>\n",
       "  <tbody>\n",
       "    <tr>\n",
       "      <th>loan_id</th>\n",
       "      <td>614</td>\n",
       "      <td>614</td>\n",
       "      <td>lp001002</td>\n",
       "      <td>1</td>\n",
       "    </tr>\n",
       "    <tr>\n",
       "      <th>gender</th>\n",
       "      <td>601</td>\n",
       "      <td>2</td>\n",
       "      <td>male</td>\n",
       "      <td>489</td>\n",
       "    </tr>\n",
       "    <tr>\n",
       "      <th>married</th>\n",
       "      <td>611</td>\n",
       "      <td>2</td>\n",
       "      <td>yes</td>\n",
       "      <td>398</td>\n",
       "    </tr>\n",
       "    <tr>\n",
       "      <th>education</th>\n",
       "      <td>614</td>\n",
       "      <td>2</td>\n",
       "      <td>graduate</td>\n",
       "      <td>480</td>\n",
       "    </tr>\n",
       "    <tr>\n",
       "      <th>self_employed</th>\n",
       "      <td>582</td>\n",
       "      <td>2</td>\n",
       "      <td>no</td>\n",
       "      <td>500</td>\n",
       "    </tr>\n",
       "    <tr>\n",
       "      <th>property_area</th>\n",
       "      <td>614</td>\n",
       "      <td>3</td>\n",
       "      <td>semiurban</td>\n",
       "      <td>233</td>\n",
       "    </tr>\n",
       "    <tr>\n",
       "      <th>loan_status</th>\n",
       "      <td>614</td>\n",
       "      <td>2</td>\n",
       "      <td>y</td>\n",
       "      <td>422</td>\n",
       "    </tr>\n",
       "  </tbody>\n",
       "</table>\n",
       "</div>"
      ],
      "text/plain": [
       "              count unique        top freq\n",
       "loan_id         614    614   lp001002    1\n",
       "gender          601      2       male  489\n",
       "married         611      2        yes  398\n",
       "education       614      2   graduate  480\n",
       "self_employed   582      2         no  500\n",
       "property_area   614      3  semiurban  233\n",
       "loan_status     614      2          y  422"
      ]
     },
     "execution_count": 5,
     "metadata": {},
     "output_type": "execute_result"
    }
   ],
   "source": [
    "df.describe(include = 'O').T"
   ]
  },
  {
   "cell_type": "code",
   "execution_count": 6,
   "id": "acd49201",
   "metadata": {},
   "outputs": [
    {
     "data": {
      "text/plain": [
       "0"
      ]
     },
     "execution_count": 6,
     "metadata": {},
     "output_type": "execute_result"
    }
   ],
   "source": [
    "len(df[df.duplicated()])"
   ]
  },
  {
   "cell_type": "code",
   "execution_count": 7,
   "id": "1feaf299",
   "metadata": {
    "id": "1feaf299"
   },
   "outputs": [
    {
     "data": {
      "text/plain": [
       "1.0    475\n",
       "0.0     89\n",
       "Name: credit_history, dtype: int64"
      ]
     },
     "execution_count": 7,
     "metadata": {},
     "output_type": "execute_result"
    }
   ],
   "source": [
    "df['credit_history'].value_counts()"
   ]
  },
  {
   "cell_type": "markdown",
   "id": "d8f065e7",
   "metadata": {},
   "source": [
    "### 3. Check for missing values in the dataset, if present? handle them with appropriate methods and drop redundant features "
   ]
  },
  {
   "cell_type": "code",
   "execution_count": 8,
   "id": "52b503f5",
   "metadata": {},
   "outputs": [
    {
     "name": "stdout",
     "output_type": "stream",
     "text": [
      "loan_id              0.000000\n",
      "gender               2.117264\n",
      "married              0.488599\n",
      "dependents           2.442997\n",
      "education            0.000000\n",
      "self_employed        5.211726\n",
      "applicantincome      0.000000\n",
      "coapplicantincome    0.000000\n",
      "loanamount           3.583062\n",
      "loan_amount_term     2.280130\n",
      "credit_history       8.143322\n",
      "property_area        0.000000\n",
      "loan_status          0.000000\n",
      "dtype: float64\n"
     ]
    }
   ],
   "source": [
    "percent_missing = df.isnull().sum() * 100 / len(df)\n",
    "print(percent_missing)"
   ]
  },
  {
   "cell_type": "markdown",
   "id": "49e65a84",
   "metadata": {},
   "source": [
    "We can see that the following features have missing values \n",
    " - credit_history \n",
    " - self-employed\n",
    " - loanamount \n",
    " - loan_amount_term\n",
    " - dependents \n",
    " - gender \n",
    " - married"
   ]
  },
  {
   "cell_type": "code",
   "execution_count": 9,
   "id": "83bdff32",
   "metadata": {},
   "outputs": [],
   "source": [
    "def fill_empty_values_randomly(feature_name,possible_values_list):\n",
    "    mask = df[feature_name].isnull()\n",
    "    #count rows with NaNs\n",
    "    l = mask.sum()\n",
    "    #create array with size l\n",
    "    s = np.random.choice(possible_values_list, size=l)\n",
    "    #set NaNs values\n",
    "    df.loc[mask, feature_name] = s"
   ]
  },
  {
   "cell_type": "code",
   "execution_count": 10,
   "id": "d5701107",
   "metadata": {},
   "outputs": [],
   "source": [
    "#Credit history is either 0 or 1 so we cannot replace the null values with mean so \n",
    "# we are going to select randomly from 1,0 and add it to the list. \n",
    "fill_empty_values_randomly('credit_history',[1,0])\n",
    "\n",
    "# credit histroy takes a value as 0 or 1 \n",
    "df['credit_history'] = df['credit_history'].astype(int)"
   ]
  },
  {
   "cell_type": "code",
   "execution_count": 11,
   "id": "1705ce48",
   "metadata": {},
   "outputs": [],
   "source": [
    "#self_employed is either yes or no so we cannot replace the null values with mean so \n",
    "# we are going to select randomly from 'yes' or 'no'  and add it to the list. \n",
    "fill_empty_values_randomly('self_employed',['yes','no'])"
   ]
  },
  {
   "cell_type": "code",
   "execution_count": 12,
   "id": "26f12a59",
   "metadata": {},
   "outputs": [],
   "source": [
    "def fill_empty_values_with_mean(feature_name):\n",
    "    feature_mean=df[feature_name].mean()\n",
    "    df[feature_name].fillna(value=feature_mean, inplace=True)"
   ]
  },
  {
   "cell_type": "code",
   "execution_count": 13,
   "id": "94fd7858",
   "metadata": {},
   "outputs": [],
   "source": [
    "fill_empty_values_with_mean('loanamount')"
   ]
  },
  {
   "cell_type": "code",
   "execution_count": 14,
   "id": "0d56c164",
   "metadata": {},
   "outputs": [],
   "source": [
    "fill_empty_values_with_mean('loan_amount_term')"
   ]
  },
  {
   "cell_type": "code",
   "execution_count": 15,
   "id": "a5dc9c78",
   "metadata": {},
   "outputs": [],
   "source": [
    "#dependents cannot be a float value so we cannot replace it with mean \n",
    "#so we are going to select the values randomly from 0,1,2,3\n",
    "fill_empty_values_randomly('dependents',[0,1,2,3])"
   ]
  },
  {
   "cell_type": "code",
   "execution_count": 16,
   "id": "b1db8f1c",
   "metadata": {},
   "outputs": [],
   "source": [
    "fill_empty_values_randomly('gender',['male','female'])"
   ]
  },
  {
   "cell_type": "code",
   "execution_count": 17,
   "id": "1909019d",
   "metadata": {},
   "outputs": [],
   "source": [
    "fill_empty_values_randomly('married',['yes','no'])"
   ]
  },
  {
   "cell_type": "code",
   "execution_count": 18,
   "id": "ace109ee",
   "metadata": {},
   "outputs": [],
   "source": [
    "df['total_income'] = df['applicantincome']+ df['coapplicantincome']"
   ]
  },
  {
   "cell_type": "code",
   "execution_count": 19,
   "id": "da58540c",
   "metadata": {},
   "outputs": [],
   "source": [
    "df = df.astype({\"dependents\":\"int\",\"total_income\":\"int\",\"loan_amount_term\":\"int\",\"loanamount\":\"int\"})"
   ]
  },
  {
   "cell_type": "code",
   "execution_count": 20,
   "id": "4237f2b0",
   "metadata": {},
   "outputs": [
    {
     "name": "stdout",
     "output_type": "stream",
     "text": [
      "loan_id              0.0\n",
      "gender               0.0\n",
      "married              0.0\n",
      "dependents           0.0\n",
      "education            0.0\n",
      "self_employed        0.0\n",
      "applicantincome      0.0\n",
      "coapplicantincome    0.0\n",
      "loanamount           0.0\n",
      "loan_amount_term     0.0\n",
      "credit_history       0.0\n",
      "property_area        0.0\n",
      "loan_status          0.0\n",
      "total_income         0.0\n",
      "dtype: float64\n"
     ]
    }
   ],
   "source": [
    "percent_missing = df.isnull().sum() * 100 / len(df)\n",
    "print(percent_missing)"
   ]
  },
  {
   "cell_type": "code",
   "execution_count": 21,
   "id": "fdd66eab",
   "metadata": {},
   "outputs": [],
   "source": [
    "## dropping the column \"loan_id\"\n",
    "df = df.drop(columns=['loan_id','applicantincome','coapplicantincome'],axis = 1)"
   ]
  },
  {
   "cell_type": "code",
   "execution_count": 22,
   "id": "c96a189b",
   "metadata": {},
   "outputs": [],
   "source": [
    "df = df.rename(columns = {\"loanamount\": \"loan_amount\"})"
   ]
  },
  {
   "cell_type": "code",
   "execution_count": 23,
   "id": "4acc55cf",
   "metadata": {},
   "outputs": [
    {
     "name": "stdout",
     "output_type": "stream",
     "text": [
      "<class 'pandas.core.frame.DataFrame'>\n",
      "RangeIndex: 614 entries, 0 to 613\n",
      "Data columns (total 11 columns):\n",
      " #   Column            Non-Null Count  Dtype \n",
      "---  ------            --------------  ----- \n",
      " 0   gender            614 non-null    object\n",
      " 1   married           614 non-null    object\n",
      " 2   dependents        614 non-null    int32 \n",
      " 3   education         614 non-null    object\n",
      " 4   self_employed     614 non-null    object\n",
      " 5   loan_amount       614 non-null    int32 \n",
      " 6   loan_amount_term  614 non-null    int32 \n",
      " 7   credit_history    614 non-null    int32 \n",
      " 8   property_area     614 non-null    object\n",
      " 9   loan_status       614 non-null    object\n",
      " 10  total_income      614 non-null    int32 \n",
      "dtypes: int32(5), object(6)\n",
      "memory usage: 40.9+ KB\n"
     ]
    }
   ],
   "source": [
    "df.info()"
   ]
  },
  {
   "cell_type": "code",
   "execution_count": 24,
   "id": "b845868a",
   "metadata": {},
   "outputs": [
    {
     "data": {
      "text/html": [
       "<div>\n",
       "<style scoped>\n",
       "    .dataframe tbody tr th:only-of-type {\n",
       "        vertical-align: middle;\n",
       "    }\n",
       "\n",
       "    .dataframe tbody tr th {\n",
       "        vertical-align: top;\n",
       "    }\n",
       "\n",
       "    .dataframe thead th {\n",
       "        text-align: right;\n",
       "    }\n",
       "</style>\n",
       "<table border=\"1\" class=\"dataframe\">\n",
       "  <thead>\n",
       "    <tr style=\"text-align: right;\">\n",
       "      <th></th>\n",
       "      <th>count</th>\n",
       "      <th>mean</th>\n",
       "      <th>std</th>\n",
       "      <th>min</th>\n",
       "      <th>25%</th>\n",
       "      <th>50%</th>\n",
       "      <th>75%</th>\n",
       "      <th>max</th>\n",
       "    </tr>\n",
       "  </thead>\n",
       "  <tbody>\n",
       "    <tr>\n",
       "      <th>dependents</th>\n",
       "      <td>614.0</td>\n",
       "      <td>0.781759</td>\n",
       "      <td>1.030336</td>\n",
       "      <td>0.0</td>\n",
       "      <td>0.00</td>\n",
       "      <td>0.0</td>\n",
       "      <td>2.00</td>\n",
       "      <td>3.0</td>\n",
       "    </tr>\n",
       "    <tr>\n",
       "      <th>loan_amount</th>\n",
       "      <td>614.0</td>\n",
       "      <td>146.397394</td>\n",
       "      <td>84.037503</td>\n",
       "      <td>9.0</td>\n",
       "      <td>100.25</td>\n",
       "      <td>129.0</td>\n",
       "      <td>164.75</td>\n",
       "      <td>700.0</td>\n",
       "    </tr>\n",
       "    <tr>\n",
       "      <th>loan_amount_term</th>\n",
       "      <td>614.0</td>\n",
       "      <td>342.000000</td>\n",
       "      <td>64.372489</td>\n",
       "      <td>12.0</td>\n",
       "      <td>360.00</td>\n",
       "      <td>360.0</td>\n",
       "      <td>360.00</td>\n",
       "      <td>480.0</td>\n",
       "    </tr>\n",
       "    <tr>\n",
       "      <th>credit_history</th>\n",
       "      <td>614.0</td>\n",
       "      <td>0.815961</td>\n",
       "      <td>0.387832</td>\n",
       "      <td>0.0</td>\n",
       "      <td>1.00</td>\n",
       "      <td>1.0</td>\n",
       "      <td>1.00</td>\n",
       "      <td>1.0</td>\n",
       "    </tr>\n",
       "    <tr>\n",
       "      <th>total_income</th>\n",
       "      <td>614.0</td>\n",
       "      <td>7024.703583</td>\n",
       "      <td>6458.664751</td>\n",
       "      <td>1442.0</td>\n",
       "      <td>4166.00</td>\n",
       "      <td>5416.5</td>\n",
       "      <td>7521.75</td>\n",
       "      <td>81000.0</td>\n",
       "    </tr>\n",
       "  </tbody>\n",
       "</table>\n",
       "</div>"
      ],
      "text/plain": [
       "                  count         mean          std     min      25%     50%  \\\n",
       "dependents        614.0     0.781759     1.030336     0.0     0.00     0.0   \n",
       "loan_amount       614.0   146.397394    84.037503     9.0   100.25   129.0   \n",
       "loan_amount_term  614.0   342.000000    64.372489    12.0   360.00   360.0   \n",
       "credit_history    614.0     0.815961     0.387832     0.0     1.00     1.0   \n",
       "total_income      614.0  7024.703583  6458.664751  1442.0  4166.00  5416.5   \n",
       "\n",
       "                      75%      max  \n",
       "dependents           2.00      3.0  \n",
       "loan_amount        164.75    700.0  \n",
       "loan_amount_term   360.00    480.0  \n",
       "credit_history       1.00      1.0  \n",
       "total_income      7521.75  81000.0  "
      ]
     },
     "execution_count": 24,
     "metadata": {},
     "output_type": "execute_result"
    }
   ],
   "source": [
    "df.describe().T"
   ]
  },
  {
   "cell_type": "code",
   "execution_count": 25,
   "id": "74cdc522",
   "metadata": {},
   "outputs": [
    {
     "data": {
      "text/html": [
       "<div>\n",
       "<style scoped>\n",
       "    .dataframe tbody tr th:only-of-type {\n",
       "        vertical-align: middle;\n",
       "    }\n",
       "\n",
       "    .dataframe tbody tr th {\n",
       "        vertical-align: top;\n",
       "    }\n",
       "\n",
       "    .dataframe thead th {\n",
       "        text-align: right;\n",
       "    }\n",
       "</style>\n",
       "<table border=\"1\" class=\"dataframe\">\n",
       "  <thead>\n",
       "    <tr style=\"text-align: right;\">\n",
       "      <th></th>\n",
       "      <th>count</th>\n",
       "      <th>unique</th>\n",
       "      <th>top</th>\n",
       "      <th>freq</th>\n",
       "    </tr>\n",
       "  </thead>\n",
       "  <tbody>\n",
       "    <tr>\n",
       "      <th>gender</th>\n",
       "      <td>614</td>\n",
       "      <td>2</td>\n",
       "      <td>male</td>\n",
       "      <td>495</td>\n",
       "    </tr>\n",
       "    <tr>\n",
       "      <th>married</th>\n",
       "      <td>614</td>\n",
       "      <td>2</td>\n",
       "      <td>yes</td>\n",
       "      <td>399</td>\n",
       "    </tr>\n",
       "    <tr>\n",
       "      <th>education</th>\n",
       "      <td>614</td>\n",
       "      <td>2</td>\n",
       "      <td>graduate</td>\n",
       "      <td>480</td>\n",
       "    </tr>\n",
       "    <tr>\n",
       "      <th>self_employed</th>\n",
       "      <td>614</td>\n",
       "      <td>2</td>\n",
       "      <td>no</td>\n",
       "      <td>515</td>\n",
       "    </tr>\n",
       "    <tr>\n",
       "      <th>property_area</th>\n",
       "      <td>614</td>\n",
       "      <td>3</td>\n",
       "      <td>semiurban</td>\n",
       "      <td>233</td>\n",
       "    </tr>\n",
       "    <tr>\n",
       "      <th>loan_status</th>\n",
       "      <td>614</td>\n",
       "      <td>2</td>\n",
       "      <td>y</td>\n",
       "      <td>422</td>\n",
       "    </tr>\n",
       "  </tbody>\n",
       "</table>\n",
       "</div>"
      ],
      "text/plain": [
       "              count unique        top freq\n",
       "gender          614      2       male  495\n",
       "married         614      2        yes  399\n",
       "education       614      2   graduate  480\n",
       "self_employed   614      2         no  515\n",
       "property_area   614      3  semiurban  233\n",
       "loan_status     614      2          y  422"
      ]
     },
     "execution_count": 25,
     "metadata": {},
     "output_type": "execute_result"
    }
   ],
   "source": [
    "df.describe(include = 'O').T"
   ]
  },
  {
   "cell_type": "markdown",
   "id": "62ac4096",
   "metadata": {},
   "source": [
    "###  4. Visualize the distribution of the target column 'loan_status' with respect to various categorical features and write your observations. "
   ]
  },
  {
   "cell_type": "code",
   "execution_count": 26,
   "id": "8bda618a",
   "metadata": {},
   "outputs": [],
   "source": [
    "def plot_categorical(feature):\n",
    "    plt.figure(figsize=(10, 6))\n",
    "    sns.countplot(x=feature, hue='loan_status', data=df)\n",
    "    plt.title(f'Distribution of {feature} by loan_status')\n",
    "    plt.show()"
   ]
  },
  {
   "cell_type": "code",
   "execution_count": 27,
   "id": "71c424f6",
   "metadata": {},
   "outputs": [
    {
     "data": {
      "image/png": "[encoded data removed]",
      "text/plain": [
       "<Figure size 1000x600 with 1 Axes>"
      ]
     },
     "metadata": {},
     "output_type": "display_data"
    }
   ],
   "source": [
    "plot_categorical('gender')"
   ]
  },
  {
   "cell_type": "markdown",
   "id": "4a6c8c73",
   "metadata": {},
   "source": [
    "- Males are more likely elgible for loans than females"
   ]
  },
  {
   "cell_type": "code",
   "execution_count": 28,
   "id": "72e6171c",
   "metadata": {},
   "outputs": [
    {
     "data": {
      "image/png": "[encoded data removed]",
      "text/plain": [
       "<Figure size 1000x600 with 1 Axes>"
      ]
     },
     "metadata": {},
     "output_type": "display_data"
    }
   ],
   "source": [
    "plot_categorical('married')\n"
   ]
  },
  {
   "cell_type": "markdown",
   "id": "b74b0c9d",
   "metadata": {},
   "source": [
    "- On an average most of the married applicants are elgible for loan."
   ]
  },
  {
   "cell_type": "code",
   "execution_count": 29,
   "id": "158b9a38",
   "metadata": {},
   "outputs": [
    {
     "data": {
      "image/png": "[encoded data removed]",
      "text/plain": [
       "<Figure size 1000x600 with 1 Axes>"
      ]
     },
     "metadata": {},
     "output_type": "display_data"
    }
   ],
   "source": [
    "plot_categorical('education')\n"
   ]
  },
  {
   "cell_type": "markdown",
   "id": "8be7b775",
   "metadata": {},
   "source": [
    "- it is diffcult for a non-graduate to be elgible for loan."
   ]
  },
  {
   "cell_type": "code",
   "execution_count": 30,
   "id": "363fc46f",
   "metadata": {},
   "outputs": [
    {
     "data": {
      "image/png": "[encoded data removed]",
      "text/plain": [
       "<Figure size 1000x600 with 1 Axes>"
      ]
     },
     "metadata": {},
     "output_type": "display_data"
    }
   ],
   "source": [
    "plot_categorical('self_employed')\n"
   ]
  },
  {
   "cell_type": "markdown",
   "id": "3e593bb6",
   "metadata": {},
   "source": [
    "- The probability for a non self-employeed individual to be elgible for loan is high."
   ]
  },
  {
   "cell_type": "code",
   "execution_count": 31,
   "id": "4f3d02a0",
   "metadata": {},
   "outputs": [
    {
     "data": {
      "image/png": "[encoded data removed]",
      "text/plain": [
       "<Figure size 1000x600 with 1 Axes>"
      ]
     },
     "metadata": {},
     "output_type": "display_data"
    }
   ],
   "source": [
    "plot_categorical('property_area')"
   ]
  },
  {
   "cell_type": "markdown",
   "id": "493dfbe9",
   "metadata": {},
   "source": [
    "- if you are living in the semiurban area, you are more likely to be eligible for a loan."
   ]
  },
  {
   "cell_type": "markdown",
   "id": "94a05ac9",
   "metadata": {},
   "source": [
    "The following are the inferences \n",
    "- You are elgible for a loan in most of the cases if you are a male,married,gradute and non-self employed and live in a semi urban area."
   ]
  },
  {
   "cell_type": "markdown",
   "id": "77c86198",
   "metadata": {},
   "source": [
    "### 5 Encode the categorical data "
   ]
  },
  {
   "cell_type": "code",
   "execution_count": 32,
   "id": "e9f05488",
   "metadata": {},
   "outputs": [
    {
     "name": "stdout",
     "output_type": "stream",
     "text": [
      "Mapping of column gender is {'female': 0, 'male': 1}\n",
      "Mapping of column married is {'no': 0, 'yes': 1}\n",
      "Mapping of column education is {'graduate': 0, 'not graduate': 1}\n",
      "Mapping of column self_employed is {'no': 0, 'yes': 1}\n",
      "Mapping of column loan_status is {'n': 0, 'y': 1}\n",
      "Mapping of column property_area is {'rural': 0, 'semiurban': 1, 'urban': 2}\n"
     ]
    }
   ],
   "source": [
    "categorical_columns = ['gender','married','education','self_employed','loan_status','property_area']\n",
    "le = LabelEncoder()\n",
    "for i in categorical_columns:\n",
    "        df[i] = df[[i]].apply(le.fit_transform)\n",
    "        le_name_mapping = dict(zip(le.classes_, le.transform(le.classes_)))\n",
    "        print(\"Mapping of column\",i,\"is\",le_name_mapping)"
   ]
  },
  {
   "cell_type": "code",
   "execution_count": 33,
   "id": "a04ddb81",
   "metadata": {},
   "outputs": [
    {
     "data": {
      "text/html": [
       "<div>\n",
       "<style scoped>\n",
       "    .dataframe tbody tr th:only-of-type {\n",
       "        vertical-align: middle;\n",
       "    }\n",
       "\n",
       "    .dataframe tbody tr th {\n",
       "        vertical-align: top;\n",
       "    }\n",
       "\n",
       "    .dataframe thead th {\n",
       "        text-align: right;\n",
       "    }\n",
       "</style>\n",
       "<table border=\"1\" class=\"dataframe\">\n",
       "  <thead>\n",
       "    <tr style=\"text-align: right;\">\n",
       "      <th></th>\n",
       "      <th>gender</th>\n",
       "      <th>married</th>\n",
       "      <th>dependents</th>\n",
       "      <th>education</th>\n",
       "      <th>self_employed</th>\n",
       "      <th>loan_amount</th>\n",
       "      <th>loan_amount_term</th>\n",
       "      <th>credit_history</th>\n",
       "      <th>property_area</th>\n",
       "      <th>loan_status</th>\n",
       "      <th>total_income</th>\n",
       "    </tr>\n",
       "  </thead>\n",
       "  <tbody>\n",
       "    <tr>\n",
       "      <th>0</th>\n",
       "      <td>1</td>\n",
       "      <td>0</td>\n",
       "      <td>0</td>\n",
       "      <td>0</td>\n",
       "      <td>0</td>\n",
       "      <td>146</td>\n",
       "      <td>360</td>\n",
       "      <td>1</td>\n",
       "      <td>2</td>\n",
       "      <td>1</td>\n",
       "      <td>5849</td>\n",
       "    </tr>\n",
       "    <tr>\n",
       "      <th>1</th>\n",
       "      <td>1</td>\n",
       "      <td>1</td>\n",
       "      <td>1</td>\n",
       "      <td>0</td>\n",
       "      <td>0</td>\n",
       "      <td>128</td>\n",
       "      <td>360</td>\n",
       "      <td>1</td>\n",
       "      <td>0</td>\n",
       "      <td>0</td>\n",
       "      <td>6091</td>\n",
       "    </tr>\n",
       "    <tr>\n",
       "      <th>2</th>\n",
       "      <td>1</td>\n",
       "      <td>1</td>\n",
       "      <td>0</td>\n",
       "      <td>0</td>\n",
       "      <td>1</td>\n",
       "      <td>66</td>\n",
       "      <td>360</td>\n",
       "      <td>1</td>\n",
       "      <td>2</td>\n",
       "      <td>1</td>\n",
       "      <td>3000</td>\n",
       "    </tr>\n",
       "    <tr>\n",
       "      <th>3</th>\n",
       "      <td>1</td>\n",
       "      <td>1</td>\n",
       "      <td>0</td>\n",
       "      <td>1</td>\n",
       "      <td>0</td>\n",
       "      <td>120</td>\n",
       "      <td>360</td>\n",
       "      <td>1</td>\n",
       "      <td>2</td>\n",
       "      <td>1</td>\n",
       "      <td>4941</td>\n",
       "    </tr>\n",
       "    <tr>\n",
       "      <th>4</th>\n",
       "      <td>1</td>\n",
       "      <td>0</td>\n",
       "      <td>0</td>\n",
       "      <td>0</td>\n",
       "      <td>0</td>\n",
       "      <td>141</td>\n",
       "      <td>360</td>\n",
       "      <td>1</td>\n",
       "      <td>2</td>\n",
       "      <td>1</td>\n",
       "      <td>6000</td>\n",
       "    </tr>\n",
       "  </tbody>\n",
       "</table>\n",
       "</div>"
      ],
      "text/plain": [
       "   gender  married  dependents  education  self_employed  loan_amount  \\\n",
       "0       1        0           0          0              0          146   \n",
       "1       1        1           1          0              0          128   \n",
       "2       1        1           0          0              1           66   \n",
       "3       1        1           0          1              0          120   \n",
       "4       1        0           0          0              0          141   \n",
       "\n",
       "   loan_amount_term  credit_history  property_area  loan_status  total_income  \n",
       "0               360               1              2            1          5849  \n",
       "1               360               1              0            0          6091  \n",
       "2               360               1              2            1          3000  \n",
       "3               360               1              2            1          4941  \n",
       "4               360               1              2            1          6000  "
      ]
     },
     "execution_count": 33,
     "metadata": {},
     "output_type": "execute_result"
    }
   ],
   "source": [
    "df.head()"
   ]
  },
  {
   "cell_type": "markdown",
   "id": "dce22664",
   "metadata": {
    "id": "dce22664"
   },
   "source": [
    "### 6. Separate the target and independent features and split the data into train and test"
   ]
  },
  {
   "cell_type": "code",
   "execution_count": 34,
   "id": "056059ab",
   "metadata": {
    "id": "056059ab"
   },
   "outputs": [],
   "source": [
    "X = df.drop('loan_status',axis=1)\n",
    "y = df['loan_status']"
   ]
  },
  {
   "cell_type": "code",
   "execution_count": 35,
   "id": "2bda64eb",
   "metadata": {
    "id": "2bda64eb",
    "outputId": "dbae5663-3556-42a6-f4c3-5fb9ae7c515b"
   },
   "outputs": [
    {
     "name": "stdout",
     "output_type": "stream",
     "text": [
      "(491, 10) (123, 10)\n",
      "(491,) (123,)\n"
     ]
    }
   ],
   "source": [
    "X_train,X_test,y_train,y_test = train_test_split(X,y,test_size=0.2,random_state=112)\n",
    "\n",
    "print(X_train.shape,X_test.shape)\n",
    "print(y_train.shape,y_test.shape)"
   ]
  },
  {
   "cell_type": "markdown",
   "id": "9230c53a",
   "metadata": {
    "id": "9230c53a"
   },
   "source": [
    "### 7. Build any classification model to predict the loan status of the customer and save your model using pickle"
   ]
  },
  {
   "cell_type": "code",
   "execution_count": 36,
   "id": "5c0af5d0",
   "metadata": {
    "id": "5c0af5d0",
    "outputId": "45b4dd88-e44e-4472-8db5-59dfd65aa54a"
   },
   "outputs": [
    {
     "data": {
      "text/plain": [
       "RandomForestClassifier(n_estimators=30, random_state=229)"
      ]
     },
     "execution_count": 36,
     "metadata": {},
     "output_type": "execute_result"
    }
   ],
   "source": [
    "## Let us build simple random forest regressor model\n",
    "rf = RandomForestClassifier(n_estimators =30 , random_state =229)\n",
    "rf.fit(X_train,y_train)"
   ]
  },
  {
   "cell_type": "code",
   "execution_count": 37,
   "id": "118569ec",
   "metadata": {
    "id": "118569ec",
    "outputId": "e9213414-0a62-400c-fad8-0f7870dde233"
   },
   "outputs": [
    {
     "name": "stdout",
     "output_type": "stream",
     "text": [
      "accuray-score train: 0.9959266802443992\n",
      "accuracy-score test 0.7560975609756098\n"
     ]
    }
   ],
   "source": [
    "## Let us check the r2-score to see hows our model is performing\n",
    "\n",
    "y_train_pred = rf.predict(X_train)\n",
    "y_test_pred = rf.predict(X_test)\n",
    "\n",
    "accuracy_train = accuracy_score(y_train,y_train_pred)\n",
    "accuracy_test = accuracy_score(y_test,y_test_pred)\n",
    "\n",
    "print('accuray-score train:',accuracy_train)\n",
    "print('accuracy-score test',accuracy_test)"
   ]
  },
  {
   "cell_type": "markdown",
   "id": "d2cfb858",
   "metadata": {
    "id": "d2cfb858"
   },
   "source": [
    "#### Pickling - Creating a pickle file with an extension as .pkl"
   ]
  },
  {
   "cell_type": "code",
   "execution_count": 38,
   "id": "059c35f4",
   "metadata": {
    "id": "059c35f4"
   },
   "outputs": [],
   "source": [
    "import pickle\n",
    "# Saving model to disk\n",
    "pickle.dump(rf, open('loan_estimator.pkl','wb'))\n",
    "\n",
    "# Loading model to compare the results\n",
    "model = pickle.load(open('loan_estimator.pkl','rb'))"
   ]
  },
  {
   "cell_type": "markdown",
   "id": "fe4278e7",
   "metadata": {
    "id": "fe4278e7"
   },
   "source": [
    "--------\n",
    "### Happy Learning :)\n",
    "--------"
   ]
  }
 ],
 "metadata": {
  "colab": {
   "name": "W11 - Machine Learning API.ipynb",
   "provenance": []
  },
  "kernelspec": {
   "display_name": "Python 3 (ipykernel)",
   "language": "python",
   "name": "python3"
  },
  "language_info": {
   "codemirror_mode": {
    "name": "ipython",
    "version": 3
   },
   "file_extension": ".py",
   "mimetype": "text/x-python",
   "name": "python",
   "nbconvert_exporter": "python",
   "pygments_lexer": "ipython3",
   "version": "3.9.13"
  }
 },
 "nbformat": 4,
 "nbformat_minor": 5
}
